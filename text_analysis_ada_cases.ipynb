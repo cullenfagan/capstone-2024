{
 "cells": [
  {
   "cell_type": "code",
   "execution_count": 1,
   "id": "453957bb",
   "metadata": {
    "scrolled": false
   },
   "outputs": [
    {
     "name": "stdout",
     "output_type": "stream",
     "text": [
      "Requirement already satisfied: pdfplumber in /Users/cullenfagan/anaconda3/lib/python3.11/site-packages (0.11.4)\n",
      "Requirement already satisfied: pdfminer.six==20231228 in /Users/cullenfagan/anaconda3/lib/python3.11/site-packages (from pdfplumber) (20231228)\n",
      "Requirement already satisfied: Pillow>=9.1 in /Users/cullenfagan/anaconda3/lib/python3.11/site-packages (from pdfplumber) (10.4.0)\n",
      "Requirement already satisfied: pypdfium2>=4.18.0 in /Users/cullenfagan/anaconda3/lib/python3.11/site-packages (from pdfplumber) (4.30.1)\n",
      "Requirement already satisfied: charset-normalizer>=2.0.0 in /Users/cullenfagan/anaconda3/lib/python3.11/site-packages (from pdfminer.six==20231228->pdfplumber) (2.0.4)\n",
      "Requirement already satisfied: cryptography>=36.0.0 in /Users/cullenfagan/anaconda3/lib/python3.11/site-packages (from pdfminer.six==20231228->pdfplumber) (41.0.3)\n",
      "Requirement already satisfied: cffi>=1.12 in /Users/cullenfagan/anaconda3/lib/python3.11/site-packages (from cryptography>=36.0.0->pdfminer.six==20231228->pdfplumber) (1.15.1)\n",
      "Requirement already satisfied: pycparser in /Users/cullenfagan/anaconda3/lib/python3.11/site-packages (from cffi>=1.12->cryptography>=36.0.0->pdfminer.six==20231228->pdfplumber) (2.21)\n",
      "Note: you may need to restart the kernel to use updated packages.\n"
     ]
    }
   ],
   "source": [
    "pip install pdfplumber"
   ]
  },
  {
   "cell_type": "code",
   "execution_count": 2,
   "id": "28a7f76d",
   "metadata": {
    "scrolled": true
   },
   "outputs": [
    {
     "name": "stdout",
     "output_type": "stream",
     "text": [
      "Requirement already satisfied: bottleneck in /Users/cullenfagan/anaconda3/lib/python3.11/site-packages (1.4.2)\n",
      "Requirement already satisfied: numpy in /Users/cullenfagan/anaconda3/lib/python3.11/site-packages (from bottleneck) (1.26.4)\n",
      "Note: you may need to restart the kernel to use updated packages.\n"
     ]
    }
   ],
   "source": [
    "pip install --upgrade bottleneck"
   ]
  },
  {
   "cell_type": "code",
   "execution_count": 3,
   "id": "78a2c68c",
   "metadata": {},
   "outputs": [],
   "source": [
    "import os\n",
    "import re\n",
    "import pandas as pd\n",
    "import pdfplumber"
   ]
  },
  {
   "cell_type": "code",
   "execution_count": 4,
   "id": "97fea734",
   "metadata": {},
   "outputs": [],
   "source": [
    "#Function to extract text\n",
    "def extract_text_from_pdf(pdf_path):\n",
    "    with pdfplumber.open(pdf_path) as pdf:\n",
    "        text = \"\"\n",
    "        for page in pdf.pages:\n",
    "            text += page.extract_text()\n",
    "    return text"
   ]
  },
  {
   "cell_type": "code",
   "execution_count": 5,
   "id": "a08afb4e",
   "metadata": {},
   "outputs": [],
   "source": [
    "#Function to Preprocess Text\n",
    "def preprocess_text(text):\n",
    "    '''\n",
    "    strip whitespace, \"/n\"\n",
    "    '''\n",
    "    normalized_text = re.sub(r'\\s+', ' ', text)\n",
    "    normalized_text = ''.join(char for char in normalized_text if char.isprintable())\n",
    "    return normalized_text"
   ]
  },
  {
   "cell_type": "code",
   "execution_count": 6,
   "id": "271239cb",
   "metadata": {},
   "outputs": [],
   "source": [
    "#function to apply regex\n",
    "def extract_data_using_regex(text, patterns):\n",
    "    extracted_data = {}\n",
    "    for label, pattern in patterns.items():\n",
    "        match = re.search(pattern, normalized_text)\n",
    "        if match:\n",
    "            # Check if the match has any capture groups\n",
    "            if match.lastindex and match.lastindex >= 1:  # Ensure there's at least one capture group\n",
    "                extracted_data[label] = match.group(1)\n",
    "            else:\n",
    "                extracted_data[label] = None  # No capture groups in the match\n",
    "        else:\n",
    "            extracted_data[label] = None  # If no match, store None\n",
    "    return extracted_data"
   ]
  },
  {
   "cell_type": "code",
   "execution_count": null,
   "id": "f7e76b40",
   "metadata": {},
   "outputs": [],
   "source": [
    "# Folder containing the PDFs\n",
    "folder_path = \"downloaded_pdfs/press_releases\""
   ]
  },
  {
   "cell_type": "code",
   "execution_count": null,
   "id": "9f5efdec",
   "metadata": {},
   "outputs": [],
   "source": [
    "# List all PDF files in the folder\n",
    "pdf_files = [file for file in os.listdir(folder_path) if file.lower().endswith('.pdf')]"
   ]
  },
  {
   "cell_type": "code",
   "execution_count": 7,
   "id": "702e1933",
   "metadata": {
    "scrolled": false
   },
   "outputs": [
    {
     "name": "stdout",
     "output_type": "stream",
     "text": [
      "colorado-county.pdf\n",
      "alaska.pdf\n",
      "smith-county.pdf\n",
      "upton-county.pdf\n",
      "runnels-county.pdf\n"
     ]
    }
   ],
   "source": [
    "# Print the list of PDF file names\n",
    "for pdf in pdf_files:\n",
    "    print(pdf)"
   ]
  },
  {
   "cell_type": "code",
   "execution_count": 64,
   "id": "b79de32c",
   "metadata": {},
   "outputs": [],
   "source": [
    "#define regex patterns\n",
    "patterns = {\n",
    "    'defendant': r'Investigation\\s(?:of|into|regarding)\\s([A-Za-z]+(?:\\s[A-Za-z]+)*(?:\\s(?:County|City|District))?)',\n",
    "    'case_number': r'DJ\\s*(?:#|No\\.)\\s*(\\d{3}-\\d{1,2}-\\d{2})',\n",
    "    'complaint': r'alleging\\s+that\\s+([^\\s].*?)\\sin\\sviolation\\sof\\sTitle\\sII',\n",
    "    'outcome': r'IV\\.\\sRemedial Measures[\\s\\S](.*)\\.'\n",
    "}"
   ]
  },
  {
   "cell_type": "code",
   "execution_count": null,
   "id": "d1591412",
   "metadata": {},
   "outputs": [],
   "source": []
  },
  {
   "cell_type": "code",
   "execution_count": 65,
   "id": "af00b266",
   "metadata": {},
   "outputs": [],
   "source": [
    "#create list of things I want to extract\n",
    "data_list = []\n",
    "\n",
    "# Iterate through each PDF and extract data\n",
    "for pdf in pdf_files:\n",
    "    # Construct the full path to the PDF file\n",
    "    pdf_path = os.path.join(folder_path, pdf)\n",
    "\n",
    "    # Check if the file exists (just to avoid potential issues)\n",
    "    if os.path.exists(pdf_path):\n",
    "        text = extract_text_from_pdf(pdf_path)  # Pass the full path to the function\n",
    "        normalized_text = preprocess_text(text)\n",
    "        extracted_data = extract_data_using_regex(normalized_text, patterns)\n",
    "        data_list.append(extracted_data)\n",
    "    else:\n",
    "        print(f\"File not found: {pdf_path}\")\n",
    "        "
   ]
  },
  {
   "cell_type": "code",
   "execution_count": 66,
   "id": "0df97f26",
   "metadata": {},
   "outputs": [],
   "source": [
    "# Convert the list of extracted data into a DataFrame\n",
    "df = pd.DataFrame(data_list)"
   ]
  },
  {
   "cell_type": "code",
   "execution_count": 67,
   "id": "023dfc7e",
   "metadata": {},
   "outputs": [
    {
     "data": {
      "text/html": [
       "<div>\n",
       "<style scoped>\n",
       "    .dataframe tbody tr th:only-of-type {\n",
       "        vertical-align: middle;\n",
       "    }\n",
       "\n",
       "    .dataframe tbody tr th {\n",
       "        vertical-align: top;\n",
       "    }\n",
       "\n",
       "    .dataframe thead th {\n",
       "        text-align: right;\n",
       "    }\n",
       "</style>\n",
       "<table border=\"1\" class=\"dataframe\">\n",
       "  <thead>\n",
       "    <tr style=\"text-align: right;\">\n",
       "      <th></th>\n",
       "      <th>defendant</th>\n",
       "      <th>case_number</th>\n",
       "      <th>complaint</th>\n",
       "      <th>outcome</th>\n",
       "    </tr>\n",
       "  </thead>\n",
       "  <tbody>\n",
       "    <tr>\n",
       "      <th>0</th>\n",
       "      <td>Colorado County</td>\n",
       "      <td>204-74-38</td>\n",
       "      <td>the County’s election website (the Website) is...</td>\n",
       "      <td>To remedy these violations, the County must ta...</td>\n",
       "    </tr>\n",
       "    <tr>\n",
       "      <th>1</th>\n",
       "      <td>Alaska</td>\n",
       "      <td>204-6-54</td>\n",
       "      <td>several of the State’s voting services, progra...</td>\n",
       "      <td>To remedy the deficiencies discussed above and...</td>\n",
       "    </tr>\n",
       "    <tr>\n",
       "      <th>2</th>\n",
       "      <td>Smith County</td>\n",
       "      <td>204-75-15</td>\n",
       "      <td>the County’s election website (the Website) is...</td>\n",
       "      <td>To remedy these violations, the County must ta...</td>\n",
       "    </tr>\n",
       "    <tr>\n",
       "      <th>3</th>\n",
       "      <td>Upton County</td>\n",
       "      <td>204-76-24</td>\n",
       "      <td>the County’s election website (the Website) is...</td>\n",
       "      <td>To remedy these violations, the County must ta...</td>\n",
       "    </tr>\n",
       "    <tr>\n",
       "      <th>4</th>\n",
       "      <td>Runnels County Election Website Under Title II...</td>\n",
       "      <td>204-76-22</td>\n",
       "      <td>the County’s election website (the Website) is...</td>\n",
       "      <td>To remedy these violations, the County must ta...</td>\n",
       "    </tr>\n",
       "  </tbody>\n",
       "</table>\n",
       "</div>"
      ],
      "text/plain": [
       "                                           defendant case_number  \\\n",
       "0                                    Colorado County   204-74-38   \n",
       "1                                             Alaska    204-6-54   \n",
       "2                                       Smith County   204-75-15   \n",
       "3                                       Upton County   204-76-24   \n",
       "4  Runnels County Election Website Under Title II...   204-76-22   \n",
       "\n",
       "                                           complaint  \\\n",
       "0  the County’s election website (the Website) is...   \n",
       "1  several of the State’s voting services, progra...   \n",
       "2  the County’s election website (the Website) is...   \n",
       "3  the County’s election website (the Website) is...   \n",
       "4  the County’s election website (the Website) is...   \n",
       "\n",
       "                                             outcome  \n",
       "0  To remedy these violations, the County must ta...  \n",
       "1  To remedy the deficiencies discussed above and...  \n",
       "2  To remedy these violations, the County must ta...  \n",
       "3  To remedy these violations, the County must ta...  \n",
       "4  To remedy these violations, the County must ta...  "
      ]
     },
     "execution_count": 67,
     "metadata": {},
     "output_type": "execute_result"
    }
   ],
   "source": [
    "# Display the DataFrame\n",
    "df"
   ]
  },
  {
   "cell_type": "code",
   "execution_count": 68,
   "id": "338881a0",
   "metadata": {},
   "outputs": [
    {
     "name": "stdout",
     "output_type": "stream",
     "text": [
      "colorado-county.pdf\n",
      "newton-county.pdf\n",
      "jefferson-county.pdf\n",
      "smith-county.pdf\n",
      "upton_county.pdf\n",
      "st-louis.pdf\n",
      "runnels-county.pdf\n",
      "travis-county.pdf\n"
     ]
    }
   ],
   "source": [
    "# Do the same thing with a different folder\n",
    "folder_path = \"downloaded_pdfs/agreements\"\n",
    "pdf_files = [file for file in os.listdir(folder_path) if file.lower().endswith('.pdf')]\n",
    "for pdf in pdf_files:\n",
    "    print(pdf)"
   ]
  },
  {
   "cell_type": "code",
   "execution_count": 80,
   "id": "76abd847",
   "metadata": {},
   "outputs": [],
   "source": [
    "# Define new regex patterns for data extraction\n",
    "agreements_re = {\n",
    "    'defendant': r'AGREEMENT[\\s\\S]*?BETWEEN THE UNITED STATES OF AMERICA[\\s\\S]*?AND\\s(.*)\\sDJ',\n",
    "    'case_number': r'DJ\\s*(?:#|No\\.)\\s*(\\d{3}-\\d{1,2}-\\d{2})',\n",
    "    'complaint': r'alleging\\sthat(.*)',\n",
    "    'outcome': r'(?:shall|agrees|will)(.*)$'     \n",
    "}"
   ]
  },
  {
   "cell_type": "raw",
   "id": "8217f2fe",
   "metadata": {},
   "source": []
  },
  {
   "cell_type": "code",
   "execution_count": 81,
   "id": "6f2387f3",
   "metadata": {},
   "outputs": [],
   "source": [
    "#Apply new patterns\n",
    "data_list_2 = []\n",
    "\n",
    "# Iterate through each PDF and extract data\n",
    "for pdf in pdf_files:\n",
    "    # Construct the full path to the PDF file\n",
    "    pdf_path = os.path.join(folder_path, pdf)\n",
    "\n",
    "    # Check if the file exists (just to avoid potential issues)\n",
    "    if os.path.exists(pdf_path):\n",
    "        text = extract_text_from_pdf(pdf_path)  # Pass the full path to the function\n",
    "        normalized_text = preprocess_text(text)\n",
    "        extracted_data = extract_data_using_regex(normalized_text, agreements_re)\n",
    "        data_list_2.append(extracted_data)\n",
    "    else:\n",
    "        print(f\"File not found: {pdf_path}\")\n",
    "        "
   ]
  },
  {
   "cell_type": "code",
   "execution_count": 82,
   "id": "7f5a77f2",
   "metadata": {},
   "outputs": [],
   "source": [
    "df_2 = pd.DataFrame(data_list_2)"
   ]
  },
  {
   "cell_type": "code",
   "execution_count": 83,
   "id": "56c18261",
   "metadata": {},
   "outputs": [
    {
     "data": {
      "text/html": [
       "<div>\n",
       "<style scoped>\n",
       "    .dataframe tbody tr th:only-of-type {\n",
       "        vertical-align: middle;\n",
       "    }\n",
       "\n",
       "    .dataframe tbody tr th {\n",
       "        vertical-align: top;\n",
       "    }\n",
       "\n",
       "    .dataframe thead th {\n",
       "        text-align: right;\n",
       "    }\n",
       "</style>\n",
       "<table border=\"1\" class=\"dataframe\">\n",
       "  <thead>\n",
       "    <tr style=\"text-align: right;\">\n",
       "      <th></th>\n",
       "      <th>defendant</th>\n",
       "      <th>case_number</th>\n",
       "      <th>complaint</th>\n",
       "      <th>outcome</th>\n",
       "    </tr>\n",
       "  </thead>\n",
       "  <tbody>\n",
       "    <tr>\n",
       "      <th>0</th>\n",
       "      <td>COLORADO COUNTY, TEXAS</td>\n",
       "      <td>204-74-38</td>\n",
       "      <td>the County’s Election Website was inaccessibl...</td>\n",
       "      <td>to refrain from filing a civil suit in this m...</td>\n",
       "    </tr>\n",
       "    <tr>\n",
       "      <th>1</th>\n",
       "      <td>THE NEWTON COUNTY, ARKANSAS BOARD OF ELECTION ...</td>\n",
       "      <td>204-10-40</td>\n",
       "      <td>the Board’s polling places contain architectu...</td>\n",
       "      <td>include the Board and all Page 1 of 12of the ...</td>\n",
       "    </tr>\n",
       "    <tr>\n",
       "      <th>2</th>\n",
       "      <td>THE JEFFERSON COUNTY, KENTUCKY BOARD OF ELECTI...</td>\n",
       "      <td>204-31-98</td>\n",
       "      <td>the Board’s polling places contain architectu...</td>\n",
       "      <td>include the Board and all of its members, off...</td>\n",
       "    </tr>\n",
       "    <tr>\n",
       "      <th>3</th>\n",
       "      <td>SMITH COUNTY, TEXAS</td>\n",
       "      <td>204-75-15</td>\n",
       "      <td>the County’s Election Website was inaccessibl...</td>\n",
       "      <td>to refrain from filing a civil suit in this m...</td>\n",
       "    </tr>\n",
       "    <tr>\n",
       "      <th>4</th>\n",
       "      <td>UPTON COUNTY, TEXAS</td>\n",
       "      <td>204-76-24</td>\n",
       "      <td>the County’s Election Website was inaccessibl...</td>\n",
       "      <td>to refrain from filing a civil suit in this m...</td>\n",
       "    </tr>\n",
       "    <tr>\n",
       "      <th>5</th>\n",
       "      <td>THE BOARD OF ELECTION COMMISSIONERS FOR THE CI...</td>\n",
       "      <td>204-42-15</td>\n",
       "      <td>in some instances (1) the Board’s polling pla...</td>\n",
       "      <td>include the Board and all of its members, off...</td>\n",
       "    </tr>\n",
       "    <tr>\n",
       "      <th>6</th>\n",
       "      <td>RUNNELS COUNTY, TEXAS</td>\n",
       "      <td>204-76-22</td>\n",
       "      <td>the County’s Election Website was inaccessibl...</td>\n",
       "      <td>to refrain from filing a civil suit in this m...</td>\n",
       "    </tr>\n",
       "    <tr>\n",
       "      <th>7</th>\n",
       "      <td>THE TRAVIS COUNTY CLERK’S OFFICE DJ No. 204-76...</td>\n",
       "      <td>204-76-22</td>\n",
       "      <td>Travis County’s voting program discriminates ...</td>\n",
       "      <td>include the Travis County Clerk’s Office and ...</td>\n",
       "    </tr>\n",
       "  </tbody>\n",
       "</table>\n",
       "</div>"
      ],
      "text/plain": [
       "                                           defendant case_number  \\\n",
       "0                             COLORADO COUNTY, TEXAS   204-74-38   \n",
       "1  THE NEWTON COUNTY, ARKANSAS BOARD OF ELECTION ...   204-10-40   \n",
       "2  THE JEFFERSON COUNTY, KENTUCKY BOARD OF ELECTI...   204-31-98   \n",
       "3                                SMITH COUNTY, TEXAS   204-75-15   \n",
       "4                                UPTON COUNTY, TEXAS   204-76-24   \n",
       "5  THE BOARD OF ELECTION COMMISSIONERS FOR THE CI...   204-42-15   \n",
       "6                              RUNNELS COUNTY, TEXAS   204-76-22   \n",
       "7  THE TRAVIS COUNTY CLERK’S OFFICE DJ No. 204-76...   204-76-22   \n",
       "\n",
       "                                           complaint  \\\n",
       "0   the County’s Election Website was inaccessibl...   \n",
       "1   the Board’s polling places contain architectu...   \n",
       "2   the Board’s polling places contain architectu...   \n",
       "3   the County’s Election Website was inaccessibl...   \n",
       "4   the County’s Election Website was inaccessibl...   \n",
       "5   in some instances (1) the Board’s polling pla...   \n",
       "6   the County’s Election Website was inaccessibl...   \n",
       "7   Travis County’s voting program discriminates ...   \n",
       "\n",
       "                                             outcome  \n",
       "0   to refrain from filing a civil suit in this m...  \n",
       "1   include the Board and all Page 1 of 12of the ...  \n",
       "2   include the Board and all of its members, off...  \n",
       "3   to refrain from filing a civil suit in this m...  \n",
       "4   to refrain from filing a civil suit in this m...  \n",
       "5   include the Board and all of its members, off...  \n",
       "6   to refrain from filing a civil suit in this m...  \n",
       "7   include the Travis County Clerk’s Office and ...  "
      ]
     },
     "execution_count": 83,
     "metadata": {},
     "output_type": "execute_result"
    }
   ],
   "source": [
    "df_2"
   ]
  },
  {
   "cell_type": "code",
   "execution_count": 84,
   "id": "48d67d13",
   "metadata": {},
   "outputs": [],
   "source": [
    "#merge datasets\n",
    "complaint_information = pd.concat([df, df_2], axis = 0)"
   ]
  },
  {
   "cell_type": "code",
   "execution_count": 85,
   "id": "07b8bdfb",
   "metadata": {},
   "outputs": [
    {
     "data": {
      "text/html": [
       "<div>\n",
       "<style scoped>\n",
       "    .dataframe tbody tr th:only-of-type {\n",
       "        vertical-align: middle;\n",
       "    }\n",
       "\n",
       "    .dataframe tbody tr th {\n",
       "        vertical-align: top;\n",
       "    }\n",
       "\n",
       "    .dataframe thead th {\n",
       "        text-align: right;\n",
       "    }\n",
       "</style>\n",
       "<table border=\"1\" class=\"dataframe\">\n",
       "  <thead>\n",
       "    <tr style=\"text-align: right;\">\n",
       "      <th></th>\n",
       "      <th>defendant</th>\n",
       "      <th>case_number</th>\n",
       "      <th>complaint</th>\n",
       "      <th>outcome</th>\n",
       "    </tr>\n",
       "  </thead>\n",
       "  <tbody>\n",
       "    <tr>\n",
       "      <th>0</th>\n",
       "      <td>Colorado County</td>\n",
       "      <td>204-74-38</td>\n",
       "      <td>the County’s election website (the Website) is...</td>\n",
       "      <td>To remedy these violations, the County must ta...</td>\n",
       "    </tr>\n",
       "    <tr>\n",
       "      <th>1</th>\n",
       "      <td>Alaska</td>\n",
       "      <td>204-6-54</td>\n",
       "      <td>several of the State’s voting services, progra...</td>\n",
       "      <td>To remedy the deficiencies discussed above and...</td>\n",
       "    </tr>\n",
       "    <tr>\n",
       "      <th>2</th>\n",
       "      <td>Smith County</td>\n",
       "      <td>204-75-15</td>\n",
       "      <td>the County’s election website (the Website) is...</td>\n",
       "      <td>To remedy these violations, the County must ta...</td>\n",
       "    </tr>\n",
       "    <tr>\n",
       "      <th>3</th>\n",
       "      <td>Upton County</td>\n",
       "      <td>204-76-24</td>\n",
       "      <td>the County’s election website (the Website) is...</td>\n",
       "      <td>To remedy these violations, the County must ta...</td>\n",
       "    </tr>\n",
       "    <tr>\n",
       "      <th>4</th>\n",
       "      <td>Runnels County Election Website Under Title II...</td>\n",
       "      <td>204-76-22</td>\n",
       "      <td>the County’s election website (the Website) is...</td>\n",
       "      <td>To remedy these violations, the County must ta...</td>\n",
       "    </tr>\n",
       "    <tr>\n",
       "      <th>0</th>\n",
       "      <td>COLORADO COUNTY, TEXAS</td>\n",
       "      <td>204-74-38</td>\n",
       "      <td>the County’s Election Website was inaccessibl...</td>\n",
       "      <td>to refrain from filing a civil suit in this m...</td>\n",
       "    </tr>\n",
       "    <tr>\n",
       "      <th>1</th>\n",
       "      <td>THE NEWTON COUNTY, ARKANSAS BOARD OF ELECTION ...</td>\n",
       "      <td>204-10-40</td>\n",
       "      <td>the Board’s polling places contain architectu...</td>\n",
       "      <td>include the Board and all Page 1 of 12of the ...</td>\n",
       "    </tr>\n",
       "    <tr>\n",
       "      <th>2</th>\n",
       "      <td>THE JEFFERSON COUNTY, KENTUCKY BOARD OF ELECTI...</td>\n",
       "      <td>204-31-98</td>\n",
       "      <td>the Board’s polling places contain architectu...</td>\n",
       "      <td>include the Board and all of its members, off...</td>\n",
       "    </tr>\n",
       "    <tr>\n",
       "      <th>3</th>\n",
       "      <td>SMITH COUNTY, TEXAS</td>\n",
       "      <td>204-75-15</td>\n",
       "      <td>the County’s Election Website was inaccessibl...</td>\n",
       "      <td>to refrain from filing a civil suit in this m...</td>\n",
       "    </tr>\n",
       "    <tr>\n",
       "      <th>4</th>\n",
       "      <td>UPTON COUNTY, TEXAS</td>\n",
       "      <td>204-76-24</td>\n",
       "      <td>the County’s Election Website was inaccessibl...</td>\n",
       "      <td>to refrain from filing a civil suit in this m...</td>\n",
       "    </tr>\n",
       "    <tr>\n",
       "      <th>5</th>\n",
       "      <td>THE BOARD OF ELECTION COMMISSIONERS FOR THE CI...</td>\n",
       "      <td>204-42-15</td>\n",
       "      <td>in some instances (1) the Board’s polling pla...</td>\n",
       "      <td>include the Board and all of its members, off...</td>\n",
       "    </tr>\n",
       "    <tr>\n",
       "      <th>6</th>\n",
       "      <td>RUNNELS COUNTY, TEXAS</td>\n",
       "      <td>204-76-22</td>\n",
       "      <td>the County’s Election Website was inaccessibl...</td>\n",
       "      <td>to refrain from filing a civil suit in this m...</td>\n",
       "    </tr>\n",
       "    <tr>\n",
       "      <th>7</th>\n",
       "      <td>THE TRAVIS COUNTY CLERK’S OFFICE DJ No. 204-76...</td>\n",
       "      <td>204-76-22</td>\n",
       "      <td>Travis County’s voting program discriminates ...</td>\n",
       "      <td>include the Travis County Clerk’s Office and ...</td>\n",
       "    </tr>\n",
       "  </tbody>\n",
       "</table>\n",
       "</div>"
      ],
      "text/plain": [
       "                                           defendant case_number  \\\n",
       "0                                    Colorado County   204-74-38   \n",
       "1                                             Alaska    204-6-54   \n",
       "2                                       Smith County   204-75-15   \n",
       "3                                       Upton County   204-76-24   \n",
       "4  Runnels County Election Website Under Title II...   204-76-22   \n",
       "0                             COLORADO COUNTY, TEXAS   204-74-38   \n",
       "1  THE NEWTON COUNTY, ARKANSAS BOARD OF ELECTION ...   204-10-40   \n",
       "2  THE JEFFERSON COUNTY, KENTUCKY BOARD OF ELECTI...   204-31-98   \n",
       "3                                SMITH COUNTY, TEXAS   204-75-15   \n",
       "4                                UPTON COUNTY, TEXAS   204-76-24   \n",
       "5  THE BOARD OF ELECTION COMMISSIONERS FOR THE CI...   204-42-15   \n",
       "6                              RUNNELS COUNTY, TEXAS   204-76-22   \n",
       "7  THE TRAVIS COUNTY CLERK’S OFFICE DJ No. 204-76...   204-76-22   \n",
       "\n",
       "                                           complaint  \\\n",
       "0  the County’s election website (the Website) is...   \n",
       "1  several of the State’s voting services, progra...   \n",
       "2  the County’s election website (the Website) is...   \n",
       "3  the County’s election website (the Website) is...   \n",
       "4  the County’s election website (the Website) is...   \n",
       "0   the County’s Election Website was inaccessibl...   \n",
       "1   the Board’s polling places contain architectu...   \n",
       "2   the Board’s polling places contain architectu...   \n",
       "3   the County’s Election Website was inaccessibl...   \n",
       "4   the County’s Election Website was inaccessibl...   \n",
       "5   in some instances (1) the Board’s polling pla...   \n",
       "6   the County’s Election Website was inaccessibl...   \n",
       "7   Travis County’s voting program discriminates ...   \n",
       "\n",
       "                                             outcome  \n",
       "0  To remedy these violations, the County must ta...  \n",
       "1  To remedy the deficiencies discussed above and...  \n",
       "2  To remedy these violations, the County must ta...  \n",
       "3  To remedy these violations, the County must ta...  \n",
       "4  To remedy these violations, the County must ta...  \n",
       "0   to refrain from filing a civil suit in this m...  \n",
       "1   include the Board and all Page 1 of 12of the ...  \n",
       "2   include the Board and all of its members, off...  \n",
       "3   to refrain from filing a civil suit in this m...  \n",
       "4   to refrain from filing a civil suit in this m...  \n",
       "5   include the Board and all of its members, off...  \n",
       "6   to refrain from filing a civil suit in this m...  \n",
       "7   include the Travis County Clerk’s Office and ...  "
      ]
     },
     "execution_count": 85,
     "metadata": {},
     "output_type": "execute_result"
    }
   ],
   "source": [
    "complaint_information"
   ]
  },
  {
   "cell_type": "code",
   "execution_count": 87,
   "id": "254f5d4c",
   "metadata": {},
   "outputs": [],
   "source": [
    "#export\n",
    "complaint_information.to_csv('complaint_information.csv')"
   ]
  },
  {
   "cell_type": "code",
   "execution_count": null,
   "id": "c74a58e1",
   "metadata": {},
   "outputs": [],
   "source": []
  }
 ],
 "metadata": {
  "kernelspec": {
   "display_name": "Python 3 (ipykernel)",
   "language": "python",
   "name": "python3"
  },
  "language_info": {
   "codemirror_mode": {
    "name": "ipython",
    "version": 3
   },
   "file_extension": ".py",
   "mimetype": "text/x-python",
   "name": "python",
   "nbconvert_exporter": "python",
   "pygments_lexer": "ipython3",
   "version": "3.11.5"
  }
 },
 "nbformat": 4,
 "nbformat_minor": 5
}
